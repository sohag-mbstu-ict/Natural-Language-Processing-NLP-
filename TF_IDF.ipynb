{
  "nbformat": 4,
  "nbformat_minor": 0,
  "metadata": {
    "colab": {
      "provenance": [],
      "collapsed_sections": []
    },
    "kernelspec": {
      "name": "python3",
      "display_name": "Python 3"
    },
    "language_info": {
      "name": "python"
    }
  },
  "cells": [
    {
      "cell_type": "code",
      "execution_count": null,
      "metadata": {
        "id": "-wlOeAalf2tv"
      },
      "outputs": [],
      "source": []
    },
    {
      "cell_type": "markdown",
      "source": [
        "\n",
        "**Is TF-IDF and Word2vec the same?**\n",
        "Not at all. TF-IDF is a word-document mapping (with some normalization). It ignore the order of words and gives nxm matrix (or mxn depending on implementation) where n is number of words in the vocabulary and m is number of documents. Word2Vec on the other hand gives a unique vector for each word based on the words appearing around the particular word. TF-IDF is obtained from straightforward linear algebra. Word2Vec is obtained from the hidden layer of a two layered neural network. TF-IDF can be used either for assigning vectors to words or to documents. Word2Vec can be directly used to assign vector to a word but to get the vector representation of a document further processing is needed. Unlike TF-IDF Word2Vec takes into account placement of words in a document(to some extent)."
      ],
      "metadata": {
        "id": "cqk0cBd2clpm"
      }
    },
    {
      "cell_type": "markdown",
      "source": [
        "https://www.youtube.com/watch?v=_RhHA_tYYXI&ab_channel=CodeWithAarohi"
      ],
      "metadata": {
        "id": "eQlkauTWf_mK"
      }
    },
    {
      "cell_type": "code",
      "source": [
        "\n",
        "\n",
        "# importing libraries\n",
        "from sklearn.feature_extraction.text import TfidfVectorizer\n"
      ],
      "metadata": {
        "id": "Nlub48Kyf5_6"
      },
      "execution_count": null,
      "outputs": []
    },
    {
      "cell_type": "code",
      "source": [
        "\n",
        "tfidf = TfidfVectorizer()\n",
        "doc_1=\"piford provide trainings to working prefessionals\"\n",
        "doc_2=\"piford provide trainings to students\"\n"
      ],
      "metadata": {
        "id": "9Lnl9hBOf6CR"
      },
      "execution_count": null,
      "outputs": []
    },
    {
      "cell_type": "code",
      "source": [
        "\n",
        "response = tfidf.fit_transform([doc_1,doc_2])\n"
      ],
      "metadata": {
        "id": "gooOIP5Lf6FC"
      },
      "execution_count": null,
      "outputs": []
    },
    {
      "cell_type": "code",
      "source": [
        "\n",
        "#doc_ & doc_2 te koto gulo unique word ase ta print korbe\n",
        "print(len(tfidf.vocabulary_))\n"
      ],
      "metadata": {
        "colab": {
          "base_uri": "https://localhost:8080/"
        },
        "id": "vgQShF36f6Hh",
        "outputId": "886c6bf0-4941-40d7-d071-69e79f5d8116"
      },
      "execution_count": null,
      "outputs": [
        {
          "output_type": "stream",
          "name": "stdout",
          "text": [
            "7\n"
          ]
        }
      ]
    },
    {
      "cell_type": "code",
      "source": [
        "\n",
        "#machine word or text buje na sudu boje nuber tai \n",
        "#word gulo k random number dara replace korbo\n",
        "tfidf.vocabulary_\n"
      ],
      "metadata": {
        "colab": {
          "base_uri": "https://localhost:8080/"
        },
        "id": "Ax_DW9jFf6J0",
        "outputId": "bef667fe-63e4-45c1-cc70-2644ae4acb2f"
      },
      "execution_count": null,
      "outputs": [
        {
          "output_type": "execute_result",
          "data": {
            "text/plain": [
              "{'piford': 0,\n",
              " 'provide': 2,\n",
              " 'trainings': 5,\n",
              " 'to': 4,\n",
              " 'working': 6,\n",
              " 'prefessionals': 1,\n",
              " 'students': 3}"
            ]
          },
          "metadata": {},
          "execution_count": 8
        }
      ]
    },
    {
      "cell_type": "code",
      "source": [
        "\n",
        "# 0 dara doc_1 k bujatse\n",
        "# 1 dara doc_2 k bujatse\n",
        "# sobar right er fraction number ta holo frequency\n",
        "print(response)\n"
      ],
      "metadata": {
        "colab": {
          "base_uri": "https://localhost:8080/"
        },
        "id": "z5dyGYBXf6Lv",
        "outputId": "09843436-2828-4a57-d582-fad72c3d3e8f"
      },
      "execution_count": null,
      "outputs": [
        {
          "output_type": "stream",
          "name": "stdout",
          "text": [
            "  (0, 1)\t0.49844627974580596\n",
            "  (0, 6)\t0.49844627974580596\n",
            "  (0, 4)\t0.35464863330313684\n",
            "  (0, 5)\t0.35464863330313684\n",
            "  (0, 2)\t0.35464863330313684\n",
            "  (0, 0)\t0.35464863330313684\n",
            "  (1, 3)\t0.5749618667993135\n",
            "  (1, 4)\t0.40909010368335985\n",
            "  (1, 5)\t0.40909010368335985\n",
            "  (1, 2)\t0.40909010368335985\n",
            "  (1, 0)\t0.40909010368335985\n"
          ]
        }
      ]
    },
    {
      "cell_type": "code",
      "source": [
        "\n",
        "feature_names= tfidf.get_feature_names()\n",
        "for col in response.nonzero()[1]:\n",
        "  print(feature_names[col],\"  :  \",response[0,col])"
      ],
      "metadata": {
        "colab": {
          "base_uri": "https://localhost:8080/"
        },
        "id": "tyrkiLTpi-Xh",
        "outputId": "d367c03b-0ad5-4682-d2f0-246304caa911"
      },
      "execution_count": null,
      "outputs": [
        {
          "output_type": "stream",
          "name": "stdout",
          "text": [
            "prefessionals   :   0.49844627974580596\n",
            "working   :   0.49844627974580596\n",
            "to   :   0.35464863330313684\n",
            "trainings   :   0.35464863330313684\n",
            "provide   :   0.35464863330313684\n",
            "piford   :   0.35464863330313684\n",
            "students   :   0.0\n",
            "to   :   0.35464863330313684\n",
            "trainings   :   0.35464863330313684\n",
            "provide   :   0.35464863330313684\n",
            "piford   :   0.35464863330313684\n"
          ]
        },
        {
          "output_type": "stream",
          "name": "stderr",
          "text": [
            "/usr/local/lib/python3.7/dist-packages/sklearn/utils/deprecation.py:87: FutureWarning: Function get_feature_names is deprecated; get_feature_names is deprecated in 1.0 and will be removed in 1.2. Please use get_feature_names_out instead.\n",
            "  warnings.warn(msg, category=FutureWarning)\n"
          ]
        }
      ]
    },
    {
      "cell_type": "code",
      "source": [],
      "metadata": {
        "id": "GsWCy0rLi-Zw"
      },
      "execution_count": null,
      "outputs": []
    },
    {
      "cell_type": "code",
      "source": [],
      "metadata": {
        "id": "dMMqiCM_i-cB"
      },
      "execution_count": null,
      "outputs": []
    },
    {
      "cell_type": "code",
      "source": [],
      "metadata": {
        "id": "SL0rQ2Kri-en"
      },
      "execution_count": null,
      "outputs": []
    },
    {
      "cell_type": "code",
      "source": [],
      "metadata": {
        "id": "y-wwo05Si-gq"
      },
      "execution_count": null,
      "outputs": []
    },
    {
      "cell_type": "markdown",
      "source": [
        "https://towardsdatascience.com/tf-idf-explained-and-python-sklearn-implementation-b020c5e83275"
      ],
      "metadata": {
        "id": "XLqXb4ZkqS7N"
      }
    },
    {
      "cell_type": "code",
      "source": [
        "import pandas as pd\n",
        "from sklearn.feature_extraction.text import TfidfTransformer\n",
        "dataset = [\n",
        "    \"I enjoy reading about Machine Learning and Machine Learning is my PhD subject\",\n",
        "    \"I would enjoy a walk in the park\",\n",
        "    \"I was reading in the library\"\n",
        "]"
      ],
      "metadata": {
        "id": "f-w9987kf6OM"
      },
      "execution_count": null,
      "outputs": []
    },
    {
      "cell_type": "code",
      "source": [
        "tfIdf[0]"
      ],
      "metadata": {
        "colab": {
          "base_uri": "https://localhost:8080/"
        },
        "id": "bbkyHarVrxTY",
        "outputId": "4d86ecf5-9355-4302-d8f1-ad9cba10f370"
      },
      "execution_count": null,
      "outputs": [
        {
          "output_type": "execute_result",
          "data": {
            "text/plain": [
              "<1x17 sparse matrix of type '<class 'numpy.float64'>'\n",
              "\twith 10 stored elements in Compressed Sparse Row format>"
            ]
          },
          "metadata": {},
          "execution_count": 13
        }
      ]
    },
    {
      "cell_type": "code",
      "source": [
        "\n",
        "tfIdfVectorizer=TfidfVectorizer(use_idf=True)\n",
        "tfIdf = tfIdfVectorizer.fit_transform(dataset)\n",
        "#https://stackoverflow.com/questions/30416695/numpy-and-scipy-difference-between-todense-and-toarray\n",
        "#toarray returns an ndarray; todense returns a matrix. If you want a matrix,\n",
        "#use todense; otherwise, use toarray.\n",
        "df = pd.DataFrame(tfIdf[0].T.todense(), index=tfIdfVectorizer.get_feature_names(), columns=[\"TF-IDF\"])\n",
        "df = df.sort_values('TF-IDF', ascending=False)\n",
        "print (df.head(25))\n"
      ],
      "metadata": {
        "colab": {
          "base_uri": "https://localhost:8080/"
        },
        "id": "wIwPZZMoqQWW",
        "outputId": "98541e51-df85-4924-c25e-e9113143e8cf"
      },
      "execution_count": null,
      "outputs": [
        {
          "output_type": "stream",
          "name": "stdout",
          "text": [
            "            TF-IDF\n",
            "machine   0.513720\n",
            "learning  0.513720\n",
            "about     0.256860\n",
            "subject   0.256860\n",
            "phd       0.256860\n",
            "and       0.256860\n",
            "my        0.256860\n",
            "is        0.256860\n",
            "reading   0.195349\n",
            "enjoy     0.195349\n",
            "library   0.000000\n",
            "park      0.000000\n",
            "in        0.000000\n",
            "the       0.000000\n",
            "walk      0.000000\n",
            "was       0.000000\n",
            "would     0.000000\n"
          ]
        }
      ]
    },
    {
      "cell_type": "code",
      "source": [],
      "metadata": {
        "id": "uspJM_rnqQYf"
      },
      "execution_count": null,
      "outputs": []
    },
    {
      "cell_type": "markdown",
      "source": [
        "**TfidfVectorizer vs TfidfTransformer — what is the difference**\n",
        "\n",
        "If you’ve ever seen other implementations of TF-IDF you may have seen that there are 2 different ways of implementing TF-IDF using Scikit-Learn. One is using the TfidfVectorizer class(like we just did) and the other one is by using the TfidfTransformer class. You may have wondered what’s the difference between the 2 of them, so let’s discuss that.\n",
        "\n",
        "Theoretically speaking, there is actually no difference between the 2 implementations. Practically speaking, we need to write some more code if we want to use TfidfTransformer. The main difference between the 2 implementations is that TfidfVectorizer performs both term frequency and inverse document frequency for you, while using TfidfTransformer will require you to use the CountVectorizer class from Scikit-Learn to perform Term Frequency."
      ],
      "metadata": {
        "id": "uqCOZz7usQ-M"
      }
    },
    {
      "cell_type": "code",
      "source": [
        "\n",
        "from sklearn.feature_extraction.text import TfidfTransformer\n",
        "from sklearn.feature_extraction.text import CountVectorizer\n"
      ],
      "metadata": {
        "id": "Vbbwht0vsQk1"
      },
      "execution_count": null,
      "outputs": []
    },
    {
      "cell_type": "code",
      "source": [
        "\n",
        "tfIdfTransformer = TfidfTransformer(use_idf=True)\n",
        "countVectorizer = CountVectorizer()\n",
        "wordCount = countVectorizer.fit_transform(dataset)\n",
        "newTfIdf = tfIdfTransformer.fit_transform(wordCount)\n",
        "df = pd.DataFrame(newTfIdf[0].T.todense(), index=countVectorizer.get_feature_names(), columns=[\"TF-IDF\"])\n",
        "df = df.sort_values('TF-IDF', ascending=False)\n",
        "print (df.head(25))\n"
      ],
      "metadata": {
        "colab": {
          "base_uri": "https://localhost:8080/"
        },
        "id": "2JwZVOYYqQaw",
        "outputId": "b3365cd3-1411-4e07-82b4-bb7c1d531b56"
      },
      "execution_count": null,
      "outputs": [
        {
          "output_type": "stream",
          "name": "stdout",
          "text": [
            "            TF-IDF\n",
            "machine   0.513720\n",
            "learning  0.513720\n",
            "about     0.256860\n",
            "subject   0.256860\n",
            "phd       0.256860\n",
            "and       0.256860\n",
            "my        0.256860\n",
            "is        0.256860\n",
            "reading   0.195349\n",
            "enjoy     0.195349\n",
            "library   0.000000\n",
            "park      0.000000\n",
            "in        0.000000\n",
            "the       0.000000\n",
            "walk      0.000000\n",
            "was       0.000000\n",
            "would     0.000000\n"
          ]
        },
        {
          "output_type": "stream",
          "name": "stderr",
          "text": [
            "/usr/local/lib/python3.7/dist-packages/sklearn/utils/deprecation.py:87: FutureWarning: Function get_feature_names is deprecated; get_feature_names is deprecated in 1.0 and will be removed in 1.2. Please use get_feature_names_out instead.\n",
            "  warnings.warn(msg, category=FutureWarning)\n"
          ]
        }
      ]
    },
    {
      "cell_type": "code",
      "source": [],
      "metadata": {
        "id": "iFgHd41NqQc9"
      },
      "execution_count": null,
      "outputs": []
    },
    {
      "cell_type": "code",
      "source": [],
      "metadata": {
        "id": "n1eKdRPru-bD"
      },
      "execution_count": null,
      "outputs": []
    },
    {
      "cell_type": "code",
      "source": [],
      "metadata": {
        "id": "EX_Oy_MJu-dI"
      },
      "execution_count": null,
      "outputs": []
    },
    {
      "cell_type": "code",
      "source": [],
      "metadata": {
        "id": "mm3EUTc3u-fR"
      },
      "execution_count": null,
      "outputs": []
    },
    {
      "cell_type": "code",
      "source": [],
      "metadata": {
        "id": "KrKO_eyiu-h8"
      },
      "execution_count": null,
      "outputs": []
    },
    {
      "cell_type": "code",
      "source": [],
      "metadata": {
        "id": "ZH13r7xOu-kx"
      },
      "execution_count": null,
      "outputs": []
    },
    {
      "cell_type": "markdown",
      "source": [
        "https://www.learndatasci.com/glossary/tf-idf-term-frequency-inverse-document-frequency/"
      ],
      "metadata": {
        "id": "jAFuDYwSvlSj"
      }
    },
    {
      "cell_type": "code",
      "source": [],
      "metadata": {
        "id": "CTSyzsrUu-ne"
      },
      "execution_count": null,
      "outputs": []
    },
    {
      "cell_type": "markdown",
      "source": [
        "**Python Implementation**\n",
        "\n",
        "Some popular python libraries have a function to calculate TF-IDF. The popular machine learning library Sklearn has TfidfVectorizer() function (docs).\n",
        "\n",
        "We will write a TF-IDF function from scratch using the standard formula given above, but we will not apply any preprocessing operations such as stop words removal, stemming, punctuation removal, or lowercasing. It should be noted that the result may be different when using a native function built into a library."
      ],
      "metadata": {
        "id": "ZWY8DZ4Yw9Un"
      }
    },
    {
      "cell_type": "code",
      "source": [
        "\n",
        "import pandas as pd\n",
        "import numpy as np\n"
      ],
      "metadata": {
        "id": "uOIleSG3u-qK"
      },
      "execution_count": null,
      "outputs": []
    },
    {
      "cell_type": "code",
      "source": [
        "\n",
        "corpus = ['data science is one of the most important fields of science', # for row 1 (in outptut : 0)\n",
        "          'this is one of the best data science courses',                # for row 2 (in outptut : 1)\n",
        "          'data scientists analyze data' ]                               # for row 3 (in outptut : 2)\n"
      ],
      "metadata": {
        "id": "OtVYh4kRu-sl"
      },
      "execution_count": null,
      "outputs": []
    },
    {
      "cell_type": "code",
      "source": [
        "\n",
        "words_set = set()\n",
        "\n",
        "for doc in  corpus:\n",
        "    words = doc.split(' ')\n",
        "    # all unique word\n",
        "    words_set = words_set.union(set(words))\n",
        "    \n",
        "print('Number of words in the corpus:',len(words_set))\n",
        "print('The words in the corpus: \\n', words_set)\n"
      ],
      "metadata": {
        "colab": {
          "base_uri": "https://localhost:8080/"
        },
        "id": "y4C3DSKdu-t_",
        "outputId": "247e2f8a-d014-4990-a2c2-84335f9c2a56"
      },
      "execution_count": null,
      "outputs": [
        {
          "output_type": "stream",
          "name": "stdout",
          "text": [
            "Number of words in the corpus: 14\n",
            "The words in the corpus: \n",
            " {'best', 'science', 'most', 'this', 'important', 'fields', 'data', 'scientists', 'one', 'of', 'is', 'courses', 'the', 'analyze'}\n"
          ]
        }
      ]
    },
    {
      "cell_type": "code",
      "source": [
        "\n",
        "n_docs = len(corpus)         #·Number of documents in the corpus\n",
        "n_words_set = len(words_set) #·Number of unique words in the \n",
        "\n",
        "df_tf = pd.DataFrame(np.zeros((n_docs, n_words_set)), columns=words_set)\n",
        "\n",
        "# Compute Term Frequency (TF)\n",
        "for i in range(n_docs):\n",
        "    words = corpus[i].split(' ') # Words in the document\n",
        "    for w in words:\n",
        "        df_tf[w][i] = df_tf[w][i] + (1 / len(words))\n",
        "        \n",
        "df_tf\n"
      ],
      "metadata": {
        "colab": {
          "base_uri": "https://localhost:8080/",
          "height": 143
        },
        "id": "53a0rVkxxDlY",
        "outputId": "a6c35806-370d-46b0-ab7d-a0fa79c30c31"
      },
      "execution_count": null,
      "outputs": [
        {
          "output_type": "execute_result",
          "data": {
            "text/plain": [
              "       best   science      most      this  important    fields      data  \\\n",
              "0  0.000000  0.181818  0.090909  0.000000   0.090909  0.090909  0.090909   \n",
              "1  0.111111  0.111111  0.000000  0.111111   0.000000  0.000000  0.111111   \n",
              "2  0.000000  0.000000  0.000000  0.000000   0.000000  0.000000  0.500000   \n",
              "\n",
              "   scientists       one        of        is   courses       the  analyze  \n",
              "0        0.00  0.090909  0.181818  0.090909  0.000000  0.090909     0.00  \n",
              "1        0.00  0.111111  0.111111  0.111111  0.111111  0.111111     0.00  \n",
              "2        0.25  0.000000  0.000000  0.000000  0.000000  0.000000     0.25  "
            ],
            "text/html": [
              "\n",
              "  <div id=\"df-dcbc7885-6e49-4160-925f-79b15505e004\">\n",
              "    <div class=\"colab-df-container\">\n",
              "      <div>\n",
              "<style scoped>\n",
              "    .dataframe tbody tr th:only-of-type {\n",
              "        vertical-align: middle;\n",
              "    }\n",
              "\n",
              "    .dataframe tbody tr th {\n",
              "        vertical-align: top;\n",
              "    }\n",
              "\n",
              "    .dataframe thead th {\n",
              "        text-align: right;\n",
              "    }\n",
              "</style>\n",
              "<table border=\"1\" class=\"dataframe\">\n",
              "  <thead>\n",
              "    <tr style=\"text-align: right;\">\n",
              "      <th></th>\n",
              "      <th>best</th>\n",
              "      <th>science</th>\n",
              "      <th>most</th>\n",
              "      <th>this</th>\n",
              "      <th>important</th>\n",
              "      <th>fields</th>\n",
              "      <th>data</th>\n",
              "      <th>scientists</th>\n",
              "      <th>one</th>\n",
              "      <th>of</th>\n",
              "      <th>is</th>\n",
              "      <th>courses</th>\n",
              "      <th>the</th>\n",
              "      <th>analyze</th>\n",
              "    </tr>\n",
              "  </thead>\n",
              "  <tbody>\n",
              "    <tr>\n",
              "      <th>0</th>\n",
              "      <td>0.000000</td>\n",
              "      <td>0.181818</td>\n",
              "      <td>0.090909</td>\n",
              "      <td>0.000000</td>\n",
              "      <td>0.090909</td>\n",
              "      <td>0.090909</td>\n",
              "      <td>0.090909</td>\n",
              "      <td>0.00</td>\n",
              "      <td>0.090909</td>\n",
              "      <td>0.181818</td>\n",
              "      <td>0.090909</td>\n",
              "      <td>0.000000</td>\n",
              "      <td>0.090909</td>\n",
              "      <td>0.00</td>\n",
              "    </tr>\n",
              "    <tr>\n",
              "      <th>1</th>\n",
              "      <td>0.111111</td>\n",
              "      <td>0.111111</td>\n",
              "      <td>0.000000</td>\n",
              "      <td>0.111111</td>\n",
              "      <td>0.000000</td>\n",
              "      <td>0.000000</td>\n",
              "      <td>0.111111</td>\n",
              "      <td>0.00</td>\n",
              "      <td>0.111111</td>\n",
              "      <td>0.111111</td>\n",
              "      <td>0.111111</td>\n",
              "      <td>0.111111</td>\n",
              "      <td>0.111111</td>\n",
              "      <td>0.00</td>\n",
              "    </tr>\n",
              "    <tr>\n",
              "      <th>2</th>\n",
              "      <td>0.000000</td>\n",
              "      <td>0.000000</td>\n",
              "      <td>0.000000</td>\n",
              "      <td>0.000000</td>\n",
              "      <td>0.000000</td>\n",
              "      <td>0.000000</td>\n",
              "      <td>0.500000</td>\n",
              "      <td>0.25</td>\n",
              "      <td>0.000000</td>\n",
              "      <td>0.000000</td>\n",
              "      <td>0.000000</td>\n",
              "      <td>0.000000</td>\n",
              "      <td>0.000000</td>\n",
              "      <td>0.25</td>\n",
              "    </tr>\n",
              "  </tbody>\n",
              "</table>\n",
              "</div>\n",
              "      <button class=\"colab-df-convert\" onclick=\"convertToInteractive('df-dcbc7885-6e49-4160-925f-79b15505e004')\"\n",
              "              title=\"Convert this dataframe to an interactive table.\"\n",
              "              style=\"display:none;\">\n",
              "        \n",
              "  <svg xmlns=\"http://www.w3.org/2000/svg\" height=\"24px\"viewBox=\"0 0 24 24\"\n",
              "       width=\"24px\">\n",
              "    <path d=\"M0 0h24v24H0V0z\" fill=\"none\"/>\n",
              "    <path d=\"M18.56 5.44l.94 2.06.94-2.06 2.06-.94-2.06-.94-.94-2.06-.94 2.06-2.06.94zm-11 1L8.5 8.5l.94-2.06 2.06-.94-2.06-.94L8.5 2.5l-.94 2.06-2.06.94zm10 10l.94 2.06.94-2.06 2.06-.94-2.06-.94-.94-2.06-.94 2.06-2.06.94z\"/><path d=\"M17.41 7.96l-1.37-1.37c-.4-.4-.92-.59-1.43-.59-.52 0-1.04.2-1.43.59L10.3 9.45l-7.72 7.72c-.78.78-.78 2.05 0 2.83L4 21.41c.39.39.9.59 1.41.59.51 0 1.02-.2 1.41-.59l7.78-7.78 2.81-2.81c.8-.78.8-2.07 0-2.86zM5.41 20L4 18.59l7.72-7.72 1.47 1.35L5.41 20z\"/>\n",
              "  </svg>\n",
              "      </button>\n",
              "      \n",
              "  <style>\n",
              "    .colab-df-container {\n",
              "      display:flex;\n",
              "      flex-wrap:wrap;\n",
              "      gap: 12px;\n",
              "    }\n",
              "\n",
              "    .colab-df-convert {\n",
              "      background-color: #E8F0FE;\n",
              "      border: none;\n",
              "      border-radius: 50%;\n",
              "      cursor: pointer;\n",
              "      display: none;\n",
              "      fill: #1967D2;\n",
              "      height: 32px;\n",
              "      padding: 0 0 0 0;\n",
              "      width: 32px;\n",
              "    }\n",
              "\n",
              "    .colab-df-convert:hover {\n",
              "      background-color: #E2EBFA;\n",
              "      box-shadow: 0px 1px 2px rgba(60, 64, 67, 0.3), 0px 1px 3px 1px rgba(60, 64, 67, 0.15);\n",
              "      fill: #174EA6;\n",
              "    }\n",
              "\n",
              "    [theme=dark] .colab-df-convert {\n",
              "      background-color: #3B4455;\n",
              "      fill: #D2E3FC;\n",
              "    }\n",
              "\n",
              "    [theme=dark] .colab-df-convert:hover {\n",
              "      background-color: #434B5C;\n",
              "      box-shadow: 0px 1px 3px 1px rgba(0, 0, 0, 0.15);\n",
              "      filter: drop-shadow(0px 1px 2px rgba(0, 0, 0, 0.3));\n",
              "      fill: #FFFFFF;\n",
              "    }\n",
              "  </style>\n",
              "\n",
              "      <script>\n",
              "        const buttonEl =\n",
              "          document.querySelector('#df-dcbc7885-6e49-4160-925f-79b15505e004 button.colab-df-convert');\n",
              "        buttonEl.style.display =\n",
              "          google.colab.kernel.accessAllowed ? 'block' : 'none';\n",
              "\n",
              "        async function convertToInteractive(key) {\n",
              "          const element = document.querySelector('#df-dcbc7885-6e49-4160-925f-79b15505e004');\n",
              "          const dataTable =\n",
              "            await google.colab.kernel.invokeFunction('convertToInteractive',\n",
              "                                                     [key], {});\n",
              "          if (!dataTable) return;\n",
              "\n",
              "          const docLinkHtml = 'Like what you see? Visit the ' +\n",
              "            '<a target=\"_blank\" href=https://colab.research.google.com/notebooks/data_table.ipynb>data table notebook</a>'\n",
              "            + ' to learn more about interactive tables.';\n",
              "          element.innerHTML = '';\n",
              "          dataTable['output_type'] = 'display_data';\n",
              "          await google.colab.output.renderOutput(dataTable, element);\n",
              "          const docLink = document.createElement('div');\n",
              "          docLink.innerHTML = docLinkHtml;\n",
              "          element.appendChild(docLink);\n",
              "        }\n",
              "      </script>\n",
              "    </div>\n",
              "  </div>\n",
              "  "
            ]
          },
          "metadata": {},
          "execution_count": 4
        }
      ]
    },
    {
      "cell_type": "code",
      "source": [],
      "metadata": {
        "id": "21k582SYxubC"
      },
      "execution_count": null,
      "outputs": []
    },
    {
      "cell_type": "markdown",
      "source": [
        "The dataframe above shows we have a column for each word and a row for each document. This shows the frequency of each word in each document.\n",
        "\n",
        "**Computing Inverse Document Frequency**\n",
        "\n",
        "Now, we'll compute the inverse document frequency (IDF):"
      ],
      "metadata": {
        "id": "u8b0LH-0xqTQ"
      }
    },
    {
      "cell_type": "code",
      "source": [
        "\n",
        "print(\"IDF of: \")\n",
        "\n",
        "idf = {}\n",
        "\n",
        "for w in words_set:\n",
        "    k = 0    # number of documents in the corpus that contain this word\n",
        "    \n",
        "    for i in range(n_docs):\n",
        "        if w in corpus[i].split():\n",
        "            k += 1\n",
        "            \n",
        "    idf[w] =  np.log10(n_docs / k)\n",
        "    \n",
        "    print(f'{w:>15}: {idf[w]:>10}' )\n",
        "    "
      ],
      "metadata": {
        "colab": {
          "base_uri": "https://localhost:8080/"
        },
        "id": "FZ0AVDAuxDns",
        "outputId": "094503bf-8d45-4e2c-cd93-a22026e59797"
      },
      "execution_count": null,
      "outputs": [
        {
          "output_type": "stream",
          "name": "stdout",
          "text": [
            "IDF of: \n",
            "           best: 0.47712125471966244\n",
            "        science: 0.17609125905568124\n",
            "           most: 0.47712125471966244\n",
            "           this: 0.47712125471966244\n",
            "      important: 0.47712125471966244\n",
            "         fields: 0.47712125471966244\n",
            "           data:        0.0\n",
            "     scientists: 0.47712125471966244\n",
            "            one: 0.17609125905568124\n",
            "             of: 0.17609125905568124\n",
            "             is: 0.17609125905568124\n",
            "        courses: 0.47712125471966244\n",
            "            the: 0.17609125905568124\n",
            "        analyze: 0.47712125471966244\n"
          ]
        }
      ]
    },
    {
      "cell_type": "code",
      "source": [],
      "metadata": {
        "id": "UNlcYS4uxDqG"
      },
      "execution_count": null,
      "outputs": []
    },
    {
      "cell_type": "code",
      "source": [],
      "metadata": {
        "id": "Unkx-_bru-v8"
      },
      "execution_count": null,
      "outputs": []
    },
    {
      "cell_type": "markdown",
      "source": [
        "**Putting it Together: Computing TF-IDF**\n",
        "\n",
        "Since we have TF and IDF now, we can compute TF-IDF:"
      ],
      "metadata": {
        "id": "uFCiTWxCx2B_"
      }
    },
    {
      "cell_type": "code",
      "source": [
        "\n",
        "df_tf_idf = df_tf.copy()\n",
        "\n",
        "for w in words_set:\n",
        "    for i in range(n_docs):\n",
        "        df_tf_idf[w][i] = df_tf[w][i] * idf[w]\n",
        "        \n",
        "df_tf_idf\n"
      ],
      "metadata": {
        "colab": {
          "base_uri": "https://localhost:8080/",
          "height": 143
        },
        "id": "g-pQJttOu-yQ",
        "outputId": "d64dcc45-4e4e-4533-902e-de986f11bc9e"
      },
      "execution_count": null,
      "outputs": [
        {
          "output_type": "execute_result",
          "data": {
            "text/plain": [
              "       best   science      most      this  important    fields  data  \\\n",
              "0  0.000000  0.032017  0.043375  0.000000   0.043375  0.043375   0.0   \n",
              "1  0.053013  0.019566  0.000000  0.053013   0.000000  0.000000   0.0   \n",
              "2  0.000000  0.000000  0.000000  0.000000   0.000000  0.000000   0.0   \n",
              "\n",
              "   scientists       one        of        is   courses       the  analyze  \n",
              "0     0.00000  0.016008  0.032017  0.016008  0.000000  0.016008  0.00000  \n",
              "1     0.00000  0.019566  0.019566  0.019566  0.053013  0.019566  0.00000  \n",
              "2     0.11928  0.000000  0.000000  0.000000  0.000000  0.000000  0.11928  "
            ],
            "text/html": [
              "\n",
              "  <div id=\"df-6be56896-e424-4ee9-b54e-0132e9d474ce\">\n",
              "    <div class=\"colab-df-container\">\n",
              "      <div>\n",
              "<style scoped>\n",
              "    .dataframe tbody tr th:only-of-type {\n",
              "        vertical-align: middle;\n",
              "    }\n",
              "\n",
              "    .dataframe tbody tr th {\n",
              "        vertical-align: top;\n",
              "    }\n",
              "\n",
              "    .dataframe thead th {\n",
              "        text-align: right;\n",
              "    }\n",
              "</style>\n",
              "<table border=\"1\" class=\"dataframe\">\n",
              "  <thead>\n",
              "    <tr style=\"text-align: right;\">\n",
              "      <th></th>\n",
              "      <th>best</th>\n",
              "      <th>science</th>\n",
              "      <th>most</th>\n",
              "      <th>this</th>\n",
              "      <th>important</th>\n",
              "      <th>fields</th>\n",
              "      <th>data</th>\n",
              "      <th>scientists</th>\n",
              "      <th>one</th>\n",
              "      <th>of</th>\n",
              "      <th>is</th>\n",
              "      <th>courses</th>\n",
              "      <th>the</th>\n",
              "      <th>analyze</th>\n",
              "    </tr>\n",
              "  </thead>\n",
              "  <tbody>\n",
              "    <tr>\n",
              "      <th>0</th>\n",
              "      <td>0.000000</td>\n",
              "      <td>0.032017</td>\n",
              "      <td>0.043375</td>\n",
              "      <td>0.000000</td>\n",
              "      <td>0.043375</td>\n",
              "      <td>0.043375</td>\n",
              "      <td>0.0</td>\n",
              "      <td>0.00000</td>\n",
              "      <td>0.016008</td>\n",
              "      <td>0.032017</td>\n",
              "      <td>0.016008</td>\n",
              "      <td>0.000000</td>\n",
              "      <td>0.016008</td>\n",
              "      <td>0.00000</td>\n",
              "    </tr>\n",
              "    <tr>\n",
              "      <th>1</th>\n",
              "      <td>0.053013</td>\n",
              "      <td>0.019566</td>\n",
              "      <td>0.000000</td>\n",
              "      <td>0.053013</td>\n",
              "      <td>0.000000</td>\n",
              "      <td>0.000000</td>\n",
              "      <td>0.0</td>\n",
              "      <td>0.00000</td>\n",
              "      <td>0.019566</td>\n",
              "      <td>0.019566</td>\n",
              "      <td>0.019566</td>\n",
              "      <td>0.053013</td>\n",
              "      <td>0.019566</td>\n",
              "      <td>0.00000</td>\n",
              "    </tr>\n",
              "    <tr>\n",
              "      <th>2</th>\n",
              "      <td>0.000000</td>\n",
              "      <td>0.000000</td>\n",
              "      <td>0.000000</td>\n",
              "      <td>0.000000</td>\n",
              "      <td>0.000000</td>\n",
              "      <td>0.000000</td>\n",
              "      <td>0.0</td>\n",
              "      <td>0.11928</td>\n",
              "      <td>0.000000</td>\n",
              "      <td>0.000000</td>\n",
              "      <td>0.000000</td>\n",
              "      <td>0.000000</td>\n",
              "      <td>0.000000</td>\n",
              "      <td>0.11928</td>\n",
              "    </tr>\n",
              "  </tbody>\n",
              "</table>\n",
              "</div>\n",
              "      <button class=\"colab-df-convert\" onclick=\"convertToInteractive('df-6be56896-e424-4ee9-b54e-0132e9d474ce')\"\n",
              "              title=\"Convert this dataframe to an interactive table.\"\n",
              "              style=\"display:none;\">\n",
              "        \n",
              "  <svg xmlns=\"http://www.w3.org/2000/svg\" height=\"24px\"viewBox=\"0 0 24 24\"\n",
              "       width=\"24px\">\n",
              "    <path d=\"M0 0h24v24H0V0z\" fill=\"none\"/>\n",
              "    <path d=\"M18.56 5.44l.94 2.06.94-2.06 2.06-.94-2.06-.94-.94-2.06-.94 2.06-2.06.94zm-11 1L8.5 8.5l.94-2.06 2.06-.94-2.06-.94L8.5 2.5l-.94 2.06-2.06.94zm10 10l.94 2.06.94-2.06 2.06-.94-2.06-.94-.94-2.06-.94 2.06-2.06.94z\"/><path d=\"M17.41 7.96l-1.37-1.37c-.4-.4-.92-.59-1.43-.59-.52 0-1.04.2-1.43.59L10.3 9.45l-7.72 7.72c-.78.78-.78 2.05 0 2.83L4 21.41c.39.39.9.59 1.41.59.51 0 1.02-.2 1.41-.59l7.78-7.78 2.81-2.81c.8-.78.8-2.07 0-2.86zM5.41 20L4 18.59l7.72-7.72 1.47 1.35L5.41 20z\"/>\n",
              "  </svg>\n",
              "      </button>\n",
              "      \n",
              "  <style>\n",
              "    .colab-df-container {\n",
              "      display:flex;\n",
              "      flex-wrap:wrap;\n",
              "      gap: 12px;\n",
              "    }\n",
              "\n",
              "    .colab-df-convert {\n",
              "      background-color: #E8F0FE;\n",
              "      border: none;\n",
              "      border-radius: 50%;\n",
              "      cursor: pointer;\n",
              "      display: none;\n",
              "      fill: #1967D2;\n",
              "      height: 32px;\n",
              "      padding: 0 0 0 0;\n",
              "      width: 32px;\n",
              "    }\n",
              "\n",
              "    .colab-df-convert:hover {\n",
              "      background-color: #E2EBFA;\n",
              "      box-shadow: 0px 1px 2px rgba(60, 64, 67, 0.3), 0px 1px 3px 1px rgba(60, 64, 67, 0.15);\n",
              "      fill: #174EA6;\n",
              "    }\n",
              "\n",
              "    [theme=dark] .colab-df-convert {\n",
              "      background-color: #3B4455;\n",
              "      fill: #D2E3FC;\n",
              "    }\n",
              "\n",
              "    [theme=dark] .colab-df-convert:hover {\n",
              "      background-color: #434B5C;\n",
              "      box-shadow: 0px 1px 3px 1px rgba(0, 0, 0, 0.15);\n",
              "      filter: drop-shadow(0px 1px 2px rgba(0, 0, 0, 0.3));\n",
              "      fill: #FFFFFF;\n",
              "    }\n",
              "  </style>\n",
              "\n",
              "      <script>\n",
              "        const buttonEl =\n",
              "          document.querySelector('#df-6be56896-e424-4ee9-b54e-0132e9d474ce button.colab-df-convert');\n",
              "        buttonEl.style.display =\n",
              "          google.colab.kernel.accessAllowed ? 'block' : 'none';\n",
              "\n",
              "        async function convertToInteractive(key) {\n",
              "          const element = document.querySelector('#df-6be56896-e424-4ee9-b54e-0132e9d474ce');\n",
              "          const dataTable =\n",
              "            await google.colab.kernel.invokeFunction('convertToInteractive',\n",
              "                                                     [key], {});\n",
              "          if (!dataTable) return;\n",
              "\n",
              "          const docLinkHtml = 'Like what you see? Visit the ' +\n",
              "            '<a target=\"_blank\" href=https://colab.research.google.com/notebooks/data_table.ipynb>data table notebook</a>'\n",
              "            + ' to learn more about interactive tables.';\n",
              "          element.innerHTML = '';\n",
              "          dataTable['output_type'] = 'display_data';\n",
              "          await google.colab.output.renderOutput(dataTable, element);\n",
              "          const docLink = document.createElement('div');\n",
              "          docLink.innerHTML = docLinkHtml;\n",
              "          element.appendChild(docLink);\n",
              "        }\n",
              "      </script>\n",
              "    </div>\n",
              "  </div>\n",
              "  "
            ]
          },
          "metadata": {},
          "execution_count": 6
        }
      ]
    },
    {
      "cell_type": "code",
      "source": [],
      "metadata": {
        "id": "_fmuTirXx5Jh"
      },
      "execution_count": null,
      "outputs": []
    },
    {
      "cell_type": "markdown",
      "source": [
        "Notice that \"data\" has an IDF of 0 because it appears in every document. As a result, is not considered to be an important term in this corpus. This will change slightly in the following sklearn implementation, where \"data\" will be non-zero.\n",
        "\n",
        "**TF-IDF Using scikit-learn**\n",
        "\n",
        "First, we need to import sklearn's TfidfVectorizer:"
      ],
      "metadata": {
        "id": "WYAKGtDfyDZP"
      }
    },
    {
      "cell_type": "code",
      "source": [
        "\n",
        "from sklearn.feature_extraction.text import TfidfVectorizer\n"
      ],
      "metadata": {
        "id": "JAtPoIZox5Lw"
      },
      "execution_count": null,
      "outputs": []
    },
    {
      "cell_type": "markdown",
      "source": [
        "We need to instantiate the class first, then we can call the fit_transform method on our test corpus. This will perform all of the calculations we performed above."
      ],
      "metadata": {
        "id": "mDl_Yf0VyK-_"
      }
    },
    {
      "cell_type": "code",
      "source": [
        "\n",
        "tr_idf_model  = TfidfVectorizer()\n",
        "tf_idf_vector = tr_idf_model.fit_transform(corpus)\n"
      ],
      "metadata": {
        "id": "wPnxCHnux5OF"
      },
      "execution_count": null,
      "outputs": []
    },
    {
      "cell_type": "code",
      "source": [],
      "metadata": {
        "id": "SBo4K1gvyWc6"
      },
      "execution_count": null,
      "outputs": []
    },
    {
      "cell_type": "markdown",
      "source": [
        "After vectorizing the corpus by the function, a sparse matrix is obtained.\n",
        "\n",
        "Here's the current shape of the matrix:"
      ],
      "metadata": {
        "id": "51fr3FHuyVUe"
      }
    },
    {
      "cell_type": "code",
      "source": [
        "\n",
        "print(type(tf_idf_vector), tf_idf_vector.shape)\n"
      ],
      "metadata": {
        "colab": {
          "base_uri": "https://localhost:8080/"
        },
        "id": "KKrNKMXdx5Qa",
        "outputId": "adf9536e-144f-4b31-b688-66fb1ac4f295"
      },
      "execution_count": null,
      "outputs": [
        {
          "output_type": "stream",
          "name": "stdout",
          "text": [
            "<class 'scipy.sparse.csr.csr_matrix'> (3, 14)\n"
          ]
        }
      ]
    },
    {
      "cell_type": "code",
      "source": [],
      "metadata": {
        "id": "dIlIDc9jx5Uh"
      },
      "execution_count": null,
      "outputs": []
    },
    {
      "cell_type": "markdown",
      "source": [
        "And we can convert to an regular array to get a better idea of the values:"
      ],
      "metadata": {
        "id": "dFoj3Dffya2-"
      }
    },
    {
      "cell_type": "code",
      "source": [
        "\n",
        "\n",
        "tf_idf_array = tf_idf_vector.toarray()\n",
        "\n",
        "print(tf_idf_array)"
      ],
      "metadata": {
        "colab": {
          "base_uri": "https://localhost:8080/"
        },
        "id": "0R3Rzi8ix5XP",
        "outputId": "d48f99cd-7dd2-482c-f5bf-0938a46e8938"
      },
      "execution_count": null,
      "outputs": [
        {
          "output_type": "stream",
          "name": "stdout",
          "text": [
            "[[0.         0.         0.         0.18952581 0.32089509 0.32089509\n",
            "  0.24404899 0.32089509 0.48809797 0.24404899 0.48809797 0.\n",
            "  0.24404899 0.        ]\n",
            " [0.         0.40029393 0.40029393 0.23642005 0.         0.\n",
            "  0.30443385 0.         0.30443385 0.30443385 0.30443385 0.\n",
            "  0.30443385 0.40029393]\n",
            " [0.54270061 0.         0.         0.64105545 0.         0.\n",
            "  0.         0.         0.         0.         0.         0.54270061\n",
            "  0.         0.        ]]\n"
          ]
        }
      ]
    },
    {
      "cell_type": "code",
      "source": [],
      "metadata": {
        "id": "69omq_o7x5Zx"
      },
      "execution_count": null,
      "outputs": []
    },
    {
      "cell_type": "markdown",
      "source": [
        "It's now very straightforward to obtain the original terms in the corpus by using get_feature_names:"
      ],
      "metadata": {
        "id": "7VR93Mm6yhA3"
      }
    },
    {
      "cell_type": "code",
      "source": [
        "\n",
        "\n",
        "words_set = tr_idf_model.get_feature_names()\n",
        "\n",
        "print(words_set)\n"
      ],
      "metadata": {
        "colab": {
          "base_uri": "https://localhost:8080/"
        },
        "id": "WS8v2Ztcu-1F",
        "outputId": "3fe09db2-e4a4-48be-cda3-7183290d83e5"
      },
      "execution_count": null,
      "outputs": [
        {
          "output_type": "stream",
          "name": "stdout",
          "text": [
            "['analyze', 'best', 'courses', 'data', 'fields', 'important', 'is', 'most', 'of', 'one', 'science', 'scientists', 'the', 'this']\n"
          ]
        },
        {
          "output_type": "stream",
          "name": "stderr",
          "text": [
            "/usr/local/lib/python3.7/dist-packages/sklearn/utils/deprecation.py:87: FutureWarning: Function get_feature_names is deprecated; get_feature_names is deprecated in 1.0 and will be removed in 1.2. Please use get_feature_names_out instead.\n",
            "  warnings.warn(msg, category=FutureWarning)\n"
          ]
        }
      ]
    },
    {
      "cell_type": "code",
      "source": [],
      "metadata": {
        "id": "DY6obvJuqQgD"
      },
      "execution_count": null,
      "outputs": []
    },
    {
      "cell_type": "markdown",
      "source": [
        "Finally, we'll create a dataframe to better show the TF-IDF scores of each document:"
      ],
      "metadata": {
        "id": "2UjJrko3ynaG"
      }
    },
    {
      "cell_type": "code",
      "source": [
        "\n",
        "\n",
        "df_tf_idf = pd.DataFrame(tf_idf_array, columns = words_set)\n",
        "\n",
        "df_tf_idf"
      ],
      "metadata": {
        "id": "bvriQGNAykK5"
      },
      "execution_count": null,
      "outputs": []
    },
    {
      "cell_type": "code",
      "source": [],
      "metadata": {
        "id": "3oA2tgRNykNl"
      },
      "execution_count": null,
      "outputs": []
    },
    {
      "cell_type": "markdown",
      "source": [
        "As you can see from the output above, the TF-IDF scores are different than the scores obtained by the manual process we used earlier. This difference is due to sklearn's implementation of TF-IDF, which uses a slightly different formula. For more details, you can learn more about how sklearn calculates TF-IDF term weighting here.\n",
        "\n",
        "https://scikit-learn.org/stable/modules/feature_extraction.html#tfidf-term-weighting\n"
      ],
      "metadata": {
        "id": "sFIcZ1K-y0dm"
      }
    },
    {
      "cell_type": "code",
      "source": [],
      "metadata": {
        "id": "rbhVNHN2ykP7"
      },
      "execution_count": null,
      "outputs": []
    },
    {
      "cell_type": "code",
      "source": [],
      "metadata": {
        "id": "MXfrlkkIykSL"
      },
      "execution_count": null,
      "outputs": []
    },
    {
      "cell_type": "code",
      "source": [],
      "metadata": {
        "id": "3R8q8cEtykU2"
      },
      "execution_count": null,
      "outputs": []
    },
    {
      "cell_type": "code",
      "source": [],
      "metadata": {
        "id": "2-1BUoWKykWh"
      },
      "execution_count": null,
      "outputs": []
    }
  ]
}